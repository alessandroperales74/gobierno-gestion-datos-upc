{
 "cells": [
  {
   "cell_type": "markdown",
   "metadata": {},
   "source": [
    "# Indicadores de Calidad"
   ]
  },
  {
   "cell_type": "markdown",
   "metadata": {},
   "source": [
    "En el presente notebook se busca extraer, desde repositorios de datos públicos, datasets referentes a **Tipo de Cambio**, **Temperatura** y **Noticias** para estimar un forecast de demanda.\n",
    "\n",
    "Para este caso, se elige tomar los siguientes indicadores del dataset\n",
    "\n",
    "- **Calidad de Datos** (Datos Faltantes y Calidad de Duplicados)\n",
    "- **En el caso de las noticias:** Se añade un grado de polaridad para identificar el grado de opinión (ya sea positiva o negativa)"
   ]
  },
  {
   "cell_type": "markdown",
   "metadata": {},
   "source": [
    "## Tipo de Cambio"
   ]
  },
  {
   "cell_type": "code",
   "execution_count": 33,
   "metadata": {},
   "outputs": [],
   "source": [
    "def calcular_metricas(df):\n",
    "\n",
    "    total_filas = len(df)\n",
    "    total_duplicados = df.duplicated().sum()\n",
    "    total_faltantes = df.isnull().sum().sum()\n",
    "\n",
    "    print(f'Total Filas:',total_filas)\n",
    "    print(f'Total Duplicados: {total_duplicados}')\n",
    "    print(f'Total Faltantes: {total_faltantes}\\n')\n",
    "    print(f'% Duplicados: {(total_duplicados/total_filas):.2f}')\n",
    "    print(f'% Faltantes: {(total_faltantes/total_filas):.2f}')"
   ]
  },
  {
   "cell_type": "code",
   "execution_count": 56,
   "metadata": {},
   "outputs": [],
   "source": [
    "import requests\n",
    "from bs4 import BeautifulSoup\n",
    "import pandas as pd \n",
    "import re"
   ]
  },
  {
   "cell_type": "code",
   "execution_count": 18,
   "metadata": {},
   "outputs": [],
   "source": [
    "URL_TC = 'https://estadisticas.bcrp.gob.pe/estadisticas/series/diarias/resultados/PD04640PD/html'"
   ]
  },
  {
   "cell_type": "code",
   "execution_count": 19,
   "metadata": {},
   "outputs": [],
   "source": [
    "# Extraemos lo que hay en la página y, como la respuesta es un html,\n",
    "# Usamos BeautifulSoup para poder leerlo correctamente\n",
    "respuesta = requests.get(URL_TC)\n",
    "soup = BeautifulSoup(respuesta.text, 'html.parser')"
   ]
  },
  {
   "cell_type": "code",
   "execution_count": 20,
   "metadata": {},
   "outputs": [],
   "source": [
    "# Usamos la función find_all para extraer la tabla\n",
    "filas = soup.find_all('tr')\n",
    "\n",
    "# Aquí crearé un par de listas para almacenar los valores\n",
    "fechas = []\n",
    "valores = []\n",
    "\n",
    "# Recorro cada fila de la tabla Soup y los valores los guardo en las listas\n",
    "for fila in filas:\n",
    "    fecha = fila.find('td', class_='periodo')\n",
    "    valor = fila.find('td', class_='dato')\n",
    "    \n",
    "    if fecha and valor:\n",
    "        # Por si acaso, quitamos espacios en blanco\n",
    "        fechas.append(fecha.text.strip())\n",
    "        valores.append(valor.text.strip())"
   ]
  },
  {
   "cell_type": "code",
   "execution_count": 21,
   "metadata": {},
   "outputs": [],
   "source": [
    "# Genero un diccionario para poder crear el dataframe\n",
    "dict_tc = {\n",
    "    'fecha':fechas,\n",
    "    'tipo_de_cambio':valores\n",
    "}\n",
    "\n",
    "df = pd.DataFrame(dict_tc)\n",
    "\n",
    "# Ahora, el problema es que las fechas las guarda con un formato 24Oct97, por lo que haré unas transformaciones adicionales\n",
    "dict_mes = {\n",
    "    'Ene':'-01-',\n",
    "    'Feb':'-02-',\n",
    "    'Mar':'-03-',\n",
    "    'Abr':'-04-',\n",
    "    'May':'-05-',\n",
    "    'Jun':'-06-',\n",
    "    'Jul':'-07-',\n",
    "    'Ago':'-08-',\n",
    "    'Set':'-09-',\n",
    "    'Oct':'-10-',\n",
    "    'Nov':'-11-',\n",
    "    'Dic':'-12-'\n",
    "}\n"
   ]
  },
  {
   "cell_type": "code",
   "execution_count": 22,
   "metadata": {},
   "outputs": [
    {
     "data": {
      "text/html": [
       "<div>\n",
       "<style scoped>\n",
       "    .dataframe tbody tr th:only-of-type {\n",
       "        vertical-align: middle;\n",
       "    }\n",
       "\n",
       "    .dataframe tbody tr th {\n",
       "        vertical-align: top;\n",
       "    }\n",
       "\n",
       "    .dataframe thead th {\n",
       "        text-align: right;\n",
       "    }\n",
       "</style>\n",
       "<table border=\"1\" class=\"dataframe\">\n",
       "  <thead>\n",
       "    <tr style=\"text-align: right;\">\n",
       "      <th></th>\n",
       "      <th>fecha</th>\n",
       "      <th>tipo_de_cambio</th>\n",
       "    </tr>\n",
       "  </thead>\n",
       "  <tbody>\n",
       "    <tr>\n",
       "      <th>0</th>\n",
       "      <td>02Ene97</td>\n",
       "      <td>2.614</td>\n",
       "    </tr>\n",
       "    <tr>\n",
       "      <th>1</th>\n",
       "      <td>02Ene97</td>\n",
       "      <td>2.614</td>\n",
       "    </tr>\n",
       "    <tr>\n",
       "      <th>2</th>\n",
       "      <td>03Ene97</td>\n",
       "      <td>2.620</td>\n",
       "    </tr>\n",
       "    <tr>\n",
       "      <th>3</th>\n",
       "      <td>06Ene97</td>\n",
       "      <td>2.628</td>\n",
       "    </tr>\n",
       "    <tr>\n",
       "      <th>4</th>\n",
       "      <td>07Ene97</td>\n",
       "      <td>2.635</td>\n",
       "    </tr>\n",
       "  </tbody>\n",
       "</table>\n",
       "</div>"
      ],
      "text/plain": [
       "     fecha tipo_de_cambio\n",
       "0  02Ene97          2.614\n",
       "1  02Ene97          2.614\n",
       "2  03Ene97          2.620\n",
       "3  06Ene97          2.628\n",
       "4  07Ene97          2.635"
      ]
     },
     "execution_count": 22,
     "metadata": {},
     "output_type": "execute_result"
    }
   ],
   "source": [
    "# Ver Dataset de Tipo de Cambio\n",
    "df.head()"
   ]
  },
  {
   "cell_type": "code",
   "execution_count": 34,
   "metadata": {},
   "outputs": [
    {
     "name": "stdout",
     "output_type": "stream",
     "text": [
      "Total Filas: 7372\n",
      "Total Duplicados: 1\n",
      "Total Faltantes: 0\n",
      "\n",
      "% Duplicados: 0.00\n",
      "% Faltantes: 0.00\n"
     ]
    }
   ],
   "source": [
    "calcular_metricas(df=df)"
   ]
  },
  {
   "cell_type": "markdown",
   "metadata": {},
   "source": [
    "## Noticias"
   ]
  },
  {
   "cell_type": "code",
   "execution_count": 27,
   "metadata": {},
   "outputs": [],
   "source": [
    "import requests\n",
    "from bs4 import BeautifulSoup\n",
    "from nltk.sentiment.vader import SentimentIntensityAnalyzer\n",
    "import nltk\n",
    "import pandas as pd\n",
    "from datetime import datetime\n",
    "from textblob import TextBlob\n",
    "from transformers import pipeline\n",
    "from transformers import AutoTokenizer, AutoModelForSequenceClassification\n",
    "from scipy.special import softmax\n",
    "import torch"
   ]
  },
  {
   "cell_type": "code",
   "execution_count": 28,
   "metadata": {},
   "outputs": [
    {
     "name": "stderr",
     "output_type": "stream",
     "text": [
      "Device set to use cpu\n"
     ]
    }
   ],
   "source": [
    "# Usa un modelo multilingüe para sentimiento\n",
    "analizador = pipeline(\n",
    "    \"sentiment-analysis\",\n",
    "    model=\"nlptown/bert-base-multilingual-uncased-sentiment\",\n",
    "    framework=\"pt\"\n",
    ")"
   ]
  },
  {
   "cell_type": "code",
   "execution_count": 29,
   "metadata": {},
   "outputs": [],
   "source": [
    "URL_ECONOMIA = 'https://gestion.pe/economia/'\n",
    "URL_POLITICA = 'https://gestion.pe/peru/politica/'\n",
    "URLS = [URL_ECONOMIA, URL_POLITICA]\n",
    "\n",
    "headers = {'User-Agent': 'Mozilla/5.0'}\n",
    "\n",
    "fecha_actual = datetime.now().strftime('%Y-%m-%d')"
   ]
  },
  {
   "cell_type": "code",
   "execution_count": 30,
   "metadata": {},
   "outputs": [],
   "source": [
    "tokenizer = AutoTokenizer.from_pretrained(\"finiteautomata/beto-sentiment-analysis\")\n",
    "model = AutoModelForSequenceClassification.from_pretrained(\"finiteautomata/beto-sentiment-analysis\")\n",
    "\n",
    "def get_polaridad(texto):\n",
    "    tokens = tokenizer(texto, return_tensors='pt')\n",
    "    with torch.no_grad():\n",
    "        output = model(**tokens)\n",
    "    scores = softmax(output.logits.numpy()[0])\n",
    "    # Negativo: 0, Neutro: 1, Positivo: 2\n",
    "    polaridad = scores[2] - scores[0]  # Positivo - Negativo\n",
    "    return polaridad"
   ]
  },
  {
   "cell_type": "code",
   "execution_count": 49,
   "metadata": {},
   "outputs": [
    {
     "name": "stderr",
     "output_type": "stream",
     "text": [
      "c:\\Users\\aperalesc\\AppData\\Local\\Programs\\Python\\Python310\\lib\\site-packages\\spacy\\util.py:910: UserWarning: [W095] Model 'es_core_news_md' (3.7.0) was trained with spaCy v3.7.0 and may not be 100% compatible with the current version (3.8.4). If you see errors or degraded performance, download a newer compatible model or retrain your custom model with the current spaCy version. For more details and available updates, run: python -m spacy validate\n",
      "  warnings.warn(warn_msg)\n"
     ]
    }
   ],
   "source": [
    "import spacy\n",
    "\n",
    "conceptos = {\n",
    "    \"economía\": [\"economía\", \"mercado\", \"PIB\", \"crecimiento\", \"finanzas\"],\n",
    "    \"exportaciones\": [\"exportaciones\", \"comercio\", \"aduanas\", \"envíos\", \"productos\"],\n",
    "    \"Perú\": [\"Perú\", \"peruano\", \"Lima\", \"andino\"],\n",
    "    \"precios internacionales\": [\"precios\", \"internacionales\", \"dólar\", \"mercado global\", \"commodities\"],\n",
    "    \"inflación\": [\"inflación\", \"IPC\", \"costos\", \"subida\", \"alza\"]\n",
    "}\n",
    "\n",
    "nlp = spacy.load(\"es_core_news_md\")\n",
    "\n",
    "def extraer_conceptos(texto):\n",
    "    doc = nlp(texto.lower())\n",
    "    encontrados = set()\n",
    "    tokens = [token.text for token in doc]\n",
    "    for concepto, palabras in conceptos.items():\n",
    "        if any(p in tokens for p in palabras):\n",
    "            encontrados.add(concepto)\n",
    "    return list(encontrados)"
   ]
  },
  {
   "cell_type": "code",
   "execution_count": 53,
   "metadata": {},
   "outputs": [
    {
     "name": "stdout",
     "output_type": "stream",
     "text": [
      "        fecha                                            titular  polaridad\n",
      "0  2025-04-04        Mercados e indicadores – viernes 4 de abril   0.017113\n",
      "1  2025-04-04  Wall Street cae casi 6% en su peor día desde 2...  -0.998647\n",
      "2  2025-04-04  Celima alista nuevas inversiones en su fábrica...   0.017958\n",
      "3  2025-04-04  Congreso realizará un pleno económico y produc...  -0.000970\n",
      "4  2025-04-04  Cambios en Corpac: las tareas pendientes de la...  -0.000985\n"
     ]
    }
   ],
   "source": [
    "# Lista para almacenar los datos\n",
    "datos = []\n",
    "\n",
    "# Procesar titulares de cada URL\n",
    "for url in URLS:\n",
    "    response = requests.get(url, headers=headers)\n",
    "    soup = BeautifulSoup(response.text, 'html.parser')\n",
    "\n",
    "    # Extraer titulares\n",
    "    titulares = soup.find_all('h2')\n",
    "    titulares_texto = [h2.get_text(strip=True) for h2 in titulares]\n",
    "\n",
    "    for titular in titulares_texto:\n",
    "        polaridad = get_polaridad(titular)\n",
    "        conceptos_relacionados = extraer_conceptos(titular)\n",
    "        datos.append({\n",
    "            'fecha': fecha_actual,\n",
    "            'titular': titular,\n",
    "            'polaridad': polaridad,\n",
    "            #'conceptos': conceptos_relacionados\n",
    "        })\n",
    "\n",
    "# Crear DataFrame\n",
    "df_titulares = pd.DataFrame(datos)\n",
    "\n",
    "# Mostrar\n",
    "print(df_titulares.head())"
   ]
  },
  {
   "cell_type": "code",
   "execution_count": 51,
   "metadata": {},
   "outputs": [],
   "source": [
    "df_titulares.sort_values(by='polaridad').to_csv(f'Noticias {fecha_actual}.csv',index=False)"
   ]
  },
  {
   "cell_type": "code",
   "execution_count": 55,
   "metadata": {},
   "outputs": [
    {
     "name": "stdout",
     "output_type": "stream",
     "text": [
      "Total Filas: 110\n",
      "Total Duplicados: 1\n",
      "Total Faltantes: 0\n",
      "\n",
      "% Duplicados: 0.01\n",
      "% Faltantes: 0.00\n"
     ]
    }
   ],
   "source": [
    "calcular_metricas(df=df_titulares)"
   ]
  },
  {
   "cell_type": "code",
   "execution_count": 41,
   "metadata": {},
   "outputs": [],
   "source": [
    "# Clave API almacenada en un script de Python\n",
    "from api_key import API_KEY"
   ]
  },
  {
   "cell_type": "markdown",
   "metadata": {},
   "source": [
    "# Temperatura"
   ]
  },
  {
   "cell_type": "code",
   "execution_count": 42,
   "metadata": {},
   "outputs": [
    {
     "name": "stdout",
     "output_type": "stream",
     "text": [
      "         fecha    ciudad                       condicion  temp_max_c  \\\n",
      "0   2025-04-03      Lima                   Partly cloudy        22.8   \n",
      "1   2025-04-03  Trujillo            Patchy rain possible        23.0   \n",
      "2   2025-04-03     Cusco  Patchy light rain with thunder        14.0   \n",
      "3   2025-04-03  Arequipa            Patchy rain possible        17.4   \n",
      "4   2025-04-03     Piura                   Partly cloudy        31.5   \n",
      "5   2025-04-02      Lima                        Overcast        25.2   \n",
      "6   2025-04-02  Trujillo                   Partly cloudy        23.6   \n",
      "7   2025-04-02     Cusco   Moderate or heavy rain shower        11.8   \n",
      "8   2025-04-02  Arequipa            Patchy rain possible        18.0   \n",
      "9   2025-04-02     Piura            Patchy rain possible        30.5   \n",
      "10  2025-04-01      Lima                   Partly cloudy        25.2   \n",
      "11  2025-04-01  Trujillo                          Cloudy        23.0   \n",
      "12  2025-04-01     Cusco   Moderate or heavy rain shower        12.3   \n",
      "13  2025-04-01  Arequipa                        Overcast        19.1   \n",
      "14  2025-04-01     Piura            Patchy rain possible        32.0   \n",
      "15  2025-03-31      Lima            Patchy rain possible        24.1   \n",
      "16  2025-03-31  Trujillo            Patchy rain possible        24.4   \n",
      "17  2025-03-31     Cusco  Patchy light rain with thunder        14.2   \n",
      "18  2025-03-31  Arequipa            Patchy rain possible        17.9   \n",
      "19  2025-03-31     Piura               Light rain shower        33.1   \n",
      "20  2025-03-30      Lima                   Partly cloudy        24.7   \n",
      "21  2025-03-30  Trujillo            Patchy rain possible        23.1   \n",
      "22  2025-03-30     Cusco  Patchy light rain with thunder        13.6   \n",
      "23  2025-03-30  Arequipa               Light rain shower        16.6   \n",
      "24  2025-03-30     Piura            Patchy rain possible        33.0   \n",
      "25  2025-03-29      Lima                          Cloudy        26.5   \n",
      "26  2025-03-29  Trujillo   Moderate or heavy rain shower        24.2   \n",
      "27  2025-03-29     Cusco             Heavy rain at times        14.9   \n",
      "28  2025-03-29  Arequipa                        Overcast        17.4   \n",
      "29  2025-03-29     Piura   Moderate or heavy rain shower        28.2   \n",
      "30  2025-03-28      Lima                          Cloudy        28.1   \n",
      "31  2025-03-28  Trujillo            Patchy rain possible        24.6   \n",
      "32  2025-03-28     Cusco   Moderate or heavy rain shower        16.3   \n",
      "33  2025-03-28  Arequipa            Patchy rain possible        18.2   \n",
      "34  2025-03-28     Piura   Moderate or heavy rain shower        30.1   \n",
      "\n",
      "    temp_min_c  humedad  lluvia_mm  \n",
      "0         18.9       79       0.01  \n",
      "1         20.8       81       0.05  \n",
      "2          7.2       77       2.55  \n",
      "3          9.5       75       0.43  \n",
      "4         24.9       58       0.01  \n",
      "5         19.8       78       0.00  \n",
      "6         19.8       81       0.52  \n",
      "7          6.3       82      18.22  \n",
      "8         11.7       66       0.10  \n",
      "9         23.5       61       3.10  \n",
      "10        20.2       80       0.00  \n",
      "11        20.8       81       0.20  \n",
      "12         7.5       87       9.40  \n",
      "13         8.6       69       0.00  \n",
      "14        24.2       57       0.80  \n",
      "15        19.0       78       0.06  \n",
      "16        19.0       78       0.02  \n",
      "17         4.7       83       4.53  \n",
      "18        11.2       71       0.24  \n",
      "19        25.2       59       1.06  \n",
      "20        20.0       76       0.00  \n",
      "21        20.8       82       0.65  \n",
      "22         6.4       82       2.34  \n",
      "23        12.2       81       2.27  \n",
      "24        24.8       61       0.81  \n",
      "25        20.4       79       0.00  \n",
      "26        19.4       80      13.00  \n",
      "27         5.5       81       3.90  \n",
      "28        11.4       75       0.00  \n",
      "29        22.8       82      30.35  \n",
      "30        20.2       73       0.00  \n",
      "31        21.3       77       1.10  \n",
      "32         6.9       82       5.40  \n",
      "33        12.4       72       0.20  \n",
      "34        25.1       63      19.70  \n"
     ]
    }
   ],
   "source": [
    "import requests\n",
    "import pandas as pd\n",
    "from datetime import datetime, timedelta\n",
    "\n",
    "ciudades = ('Lima','Trujillo','Cusco','Arequipa','Piura')\n",
    "DIAS = 7  # últimos 5 días\n",
    "\n",
    "hoy = datetime.today()\n",
    "fechas = [(hoy - timedelta(days=i)).strftime('%Y-%m-%d') for i in range(1, DIAS + 1)]\n",
    "\n",
    "datos_clima = []\n",
    "\n",
    "for fecha in fechas:\n",
    "\n",
    "    for ciudad in ciudades:\n",
    "        URL = f'http://api.weatherapi.com/v1/history.json?key={API_KEY}&q={ciudad}&dt={fecha}'\n",
    "        response = requests.get(URL)\n",
    "\n",
    "        if response.status_code == 200:\n",
    "            data = response.json()\n",
    "            dia = data['forecast']['forecastday'][0]['day']\n",
    "            datos_clima.append({\n",
    "                'fecha': fecha,\n",
    "                'ciudad': ciudad,\n",
    "                'condicion': dia['condition']['text'],\n",
    "                'temp_max_c': dia['maxtemp_c'],\n",
    "                'temp_min_c': dia['mintemp_c'],\n",
    "                'humedad': dia['avghumidity'],\n",
    "                'lluvia_mm': dia['totalprecip_mm']\n",
    "            })\n",
    "        else:\n",
    "            print(f\"Error en la fecha {fecha}: {response.status_code}\")\n",
    "\n",
    "# Convertir a DataFrame\n",
    "df_temperatura = pd.DataFrame(datos_clima)\n",
    "print(df_temperatura)"
   ]
  },
  {
   "cell_type": "code",
   "execution_count": 43,
   "metadata": {},
   "outputs": [
    {
     "name": "stdout",
     "output_type": "stream",
     "text": [
      "Total Filas: 35\n",
      "Total Duplicados: 0\n",
      "Total Faltantes: 0\n",
      "\n",
      "% Duplicados: 0.00\n",
      "% Faltantes: 0.00\n"
     ]
    }
   ],
   "source": [
    "calcular_metricas(df_temperatura)"
   ]
  }
 ],
 "metadata": {
  "kernelspec": {
   "display_name": "Python 3",
   "language": "python",
   "name": "python3"
  },
  "language_info": {
   "codemirror_mode": {
    "name": "ipython",
    "version": 3
   },
   "file_extension": ".py",
   "mimetype": "text/x-python",
   "name": "python",
   "nbconvert_exporter": "python",
   "pygments_lexer": "ipython3",
   "version": "3.10.0"
  }
 },
 "nbformat": 4,
 "nbformat_minor": 2
}
